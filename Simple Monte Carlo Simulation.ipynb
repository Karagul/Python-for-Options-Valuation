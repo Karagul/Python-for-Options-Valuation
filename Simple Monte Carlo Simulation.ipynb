{
 "cells": [
  {
   "cell_type": "code",
   "execution_count": 1,
   "metadata": {},
   "outputs": [],
   "source": [
    "import numpy as np"
   ]
  },
  {
   "cell_type": "markdown",
   "metadata": {},
   "source": [
    "**a) Using Python, calculate a “large number” N of potential prices for the stock tomorrow.**"
   ]
  },
  {
   "cell_type": "code",
   "execution_count": 2,
   "metadata": {
    "scrolled": true
   },
   "outputs": [
    {
     "data": {
      "text/plain": [
       "array([100.21394643, 100.1062563 , 100.18114341, ...,  99.95188867,\n",
       "       100.1414572 ,  99.50091762])"
      ]
     },
     "execution_count": 2,
     "metadata": {},
     "output_type": "execute_result"
    }
   ],
   "source": [
    "N = 10000\n",
    "S0 = 100\n",
    "std = 0.0025\n",
    "\n",
    "X = np.random.normal(0,1,N)\n",
    "\n",
    "S1 = S0*(1+std*X)\n",
    "S1"
   ]
  },
  {
   "cell_type": "markdown",
   "metadata": {},
   "source": [
    "**b) Using the N draws, estimate and report standard deviation and mean absolute deviation of tomorrow’s price.**"
   ]
  },
  {
   "cell_type": "code",
   "execution_count": 3,
   "metadata": {},
   "outputs": [
    {
     "name": "stdout",
     "output_type": "stream",
     "text": [
      "Standard deviation: 0.2502407300607479\n",
      "Mean absolute deviation: 0.20036119496221286\n",
      "The ratio of the MAD to the SD: 0.8006737948437636\n"
     ]
    }
   ],
   "source": [
    "SD = S1.std()\n",
    "MAD = abs(S1 - S0).mean()\n",
    "print('Standard deviation:', SD)\n",
    "print('Mean absolute deviation:', MAD)\n",
    "print('The ratio of the MAD to the SD:', MAD/SD)"
   ]
  },
  {
   "cell_type": "markdown",
   "metadata": {},
   "source": [
    "**c) Now “price” the at-the-money (ATM) call option on this underlying, as its expected payoff.**"
   ]
  },
  {
   "cell_type": "code",
   "execution_count": 4,
   "metadata": {},
   "outputs": [
    {
     "name": "stdout",
     "output_type": "stream",
     "text": [
      "Call price: 0.09991121620130243\n",
      "The ratio of call price to the MAD: 0.498655521694933\n"
     ]
    }
   ],
   "source": [
    "payoff = []\n",
    "for s in S1:\n",
    "    if s - S0 > 0:\n",
    "        payoff.append(s - S0)\n",
    "    else:\n",
    "        payoff.append(0)\n",
    "price = np.array(payoff).mean()\n",
    "print('Call price:', price)\n",
    "print('The ratio of call price to the MAD:', price/MAD)"
   ]
  },
  {
   "cell_type": "markdown",
   "metadata": {},
   "source": [
    "**d) What happens to the price of this ATM call if you double S0? What if you triple S0?**"
   ]
  },
  {
   "cell_type": "code",
   "execution_count": 5,
   "metadata": {},
   "outputs": [
    {
     "name": "stdout",
     "output_type": "stream",
     "text": [
      "Price of the ATM call if double S0: 2.0\n",
      "Price of the ATM call if triple S0: 3.000000000000002\n"
     ]
    }
   ],
   "source": [
    "def CALL_Price(multiple_S0, multiple_std):\n",
    "    S0_1 = 100*multiple_S0\n",
    "    std_1 = 0.0025*multiple_std\n",
    "    S1_1 = S0_1*(1+std_1*X)\n",
    "    payoff_1 = []\n",
    "    for s in S1_1:\n",
    "        if s - S0_1 > 0:\n",
    "            payoff_1.append(s - S0_1)\n",
    "        else:\n",
    "            payoff_1.append(0)\n",
    "    price_1 = np.array(payoff_1).mean()\n",
    "    return price_1\n",
    "\n",
    "print('Price of the ATM call if double S0:', CALL_Price(2, 1)/price)\n",
    "print('Price of the ATM call if triple S0:', CALL_Price(3, 1)/price)"
   ]
  },
  {
   "cell_type": "markdown",
   "metadata": {},
   "source": [
    "**e) What happens to your answers if you instead double σdaily? What if you triple σdaily?**"
   ]
  },
  {
   "cell_type": "code",
   "execution_count": 6,
   "metadata": {},
   "outputs": [
    {
     "name": "stdout",
     "output_type": "stream",
     "text": [
      "Price of the ATM call if double std: 2.0000000000000013\n",
      "Price of the ATM call if triple std: 3.0000000000000013\n"
     ]
    }
   ],
   "source": [
    "print('Price of the ATM call if double std:', CALL_Price(1, 2)/price)\n",
    "print('Price of the ATM call if triple std:', CALL_Price(1, 3)/price)"
   ]
  },
  {
   "cell_type": "markdown",
   "metadata": {},
   "source": [
    "**f) What happens to your if you look at the ATM call with two days to maturity? What about with four days to maturity?**"
   ]
  },
  {
   "cell_type": "code",
   "execution_count": 7,
   "metadata": {},
   "outputs": [
    {
     "name": "stdout",
     "output_type": "stream",
     "text": [
      "Price of the ATM call with two days to maturity: 1.3882290494283354\n",
      "Price of the ATM call with four days to maturity: 2.0102159473895194\n"
     ]
    }
   ],
   "source": [
    "X2 = np.random.normal(0,1,N)\n",
    "X3 = np.random.normal(0,1,N)\n",
    "X4 = np.random.normal(0,1,N)\n",
    "\n",
    "S1_2d = S0*(1+std*X)*(1+std*X2)\n",
    "payoff_2d = []\n",
    "for s in S1_2d:\n",
    "    if s - S0 > 0:\n",
    "        payoff_2d.append(s - S0)\n",
    "    else:\n",
    "        payoff_2d.append(0)\n",
    "price_2d = np.array(payoff_2d).mean()\n",
    "\n",
    "S1_4d = S0*(1+std*X)*(1+std*X2)*(1+std*X3)*(1+std*X4)\n",
    "payoff_4d = []\n",
    "for s in S1_4d:\n",
    "    if s - S0 > 0:\n",
    "        payoff_4d.append(s - S0)\n",
    "    else:\n",
    "        payoff_4d.append(0)\n",
    "price_4d = np.array(payoff_4d).mean()\n",
    "\n",
    "print('Price of the ATM call with two days to maturity:', price_2d/price)\n",
    "print('Price of the ATM call with four days to maturity:', price_4d/price)"
   ]
  }
 ],
 "metadata": {
  "kernelspec": {
   "display_name": "Python 3",
   "language": "python",
   "name": "python3"
  },
  "language_info": {
   "codemirror_mode": {
    "name": "ipython",
    "version": 3
   },
   "file_extension": ".py",
   "mimetype": "text/x-python",
   "name": "python",
   "nbconvert_exporter": "python",
   "pygments_lexer": "ipython3",
   "version": "3.7.3"
  }
 },
 "nbformat": 4,
 "nbformat_minor": 2
}
