{
 "cells": [
  {
   "cell_type": "code",
   "execution_count": 3,
   "metadata": {},
   "outputs": [],
   "source": [
    "import numpy as np\n",
    "import matplotlib.pyplot as plt\n",
    "import pandas as pd\n",
    "import turtle\n",
    "from sympy import *\n",
    "\n",
    "np.set_printoptions(formatter={'float': lambda x: '{:8.2f}'.format(x)})"
   ]
  },
  {
   "cell_type": "code",
   "execution_count": 4,
   "metadata": {},
   "outputs": [],
   "source": [
    "# a)\n",
    "def StockT(S0, n, u, d):\n",
    "    price = np.zeros((n+1, n+1))\n",
    "    for i in range(n+1):\n",
    "        for j in range(n+1):\n",
    "            if i >= j:\n",
    "                price[i,j] = S0*u**(i-j)*d**(j)\n",
    "            else:\n",
    "                price[i,j] = 0\n",
    "    return np.matrix(price.astype(float))"
   ]
  },
  {
   "cell_type": "code",
   "execution_count": 5,
   "metadata": {},
   "outputs": [
    {
     "data": {
      "text/plain": [
       "matrix([[  432.00,     0.00,     0.00,     0.00],\n",
       "        [  576.00,   324.00,     0.00,     0.00],\n",
       "        [  768.00,   432.00,   243.00,     0.00],\n",
       "        [ 1024.00,   576.00,   324.00,   182.25]])"
      ]
     },
     "execution_count": 5,
     "metadata": {},
     "output_type": "execute_result"
    }
   ],
   "source": [
    "StockT(432, 3, 4/3, 3/4)"
   ]
  },
  {
   "cell_type": "code",
   "execution_count": 6,
   "metadata": {},
   "outputs": [],
   "source": [
    "# b)\n",
    "def probability(n, u, d, r):\n",
    "    q = (1+r-d) / (u-d)\n",
    "    return q"
   ]
  },
  {
   "cell_type": "code",
   "execution_count": 7,
   "metadata": {},
   "outputs": [
    {
     "data": {
      "text/plain": [
       "0.5000000000000002"
      ]
     },
     "execution_count": 7,
     "metadata": {},
     "output_type": "execute_result"
    }
   ],
   "source": [
    "probability(1, 4/3, 3/4, 1/24)"
   ]
  },
  {
   "cell_type": "code",
   "execution_count": 8,
   "metadata": {},
   "outputs": [],
   "source": [
    "# c) & d)\n",
    "def CallOptionT(S0, n, u, d, r, K):\n",
    "    price_C = np.zeros((n+1, n+1))\n",
    "    q = (1+r-d) / (u-d)\n",
    "    for ii in range(n+1):\n",
    "        price_C[n, ii] = max(StockT(S0, n, u, d)[n, ii]-K, 0)\n",
    "    for i in sorted(list(range(n)), reverse = True):\n",
    "        for j in range(n+1):\n",
    "            if i >= j:\n",
    "                price_C[i,j] = (q*price_C[i+1,j]+(1-q)*price_C[i+1,j+1])/(1+r)\n",
    "            else:\n",
    "                price_C[i,j] = 0\n",
    "    return np.matrix(price_C.astype(float))"
   ]
  },
  {
   "cell_type": "code",
   "execution_count": 9,
   "metadata": {},
   "outputs": [
    {
     "data": {
      "text/plain": [
       "matrix([[  113.25,     0.00,     0.00,     0.00],\n",
       "        [  202.75,    33.18,     0.00,     0.00],\n",
       "        [  353.28,    69.12,     0.00,     0.00],\n",
       "        [  592.00,   144.00,     0.00,     0.00]])"
      ]
     },
     "execution_count": 9,
     "metadata": {},
     "output_type": "execute_result"
    }
   ],
   "source": [
    "CallOptionT(432, 3, 4/3, 3/4, 1/24, 432)"
   ]
  },
  {
   "cell_type": "code",
   "execution_count": null,
   "metadata": {},
   "outputs": [],
   "source": []
  }
 ],
 "metadata": {
  "kernelspec": {
   "display_name": "Python 3",
   "language": "python",
   "name": "python3"
  },
  "language_info": {
   "codemirror_mode": {
    "name": "ipython",
    "version": 3
   },
   "file_extension": ".py",
   "mimetype": "text/x-python",
   "name": "python",
   "nbconvert_exporter": "python",
   "pygments_lexer": "ipython3",
   "version": "3.7.3"
  }
 },
 "nbformat": 4,
 "nbformat_minor": 2
}
